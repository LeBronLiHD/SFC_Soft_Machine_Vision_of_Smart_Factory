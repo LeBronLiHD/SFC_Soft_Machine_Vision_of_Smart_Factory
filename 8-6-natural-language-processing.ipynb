{
 "cells": [
  {
   "cell_type": "markdown",
   "id": "7a7f37e9",
   "metadata": {
    "slideshow": {
     "slide_type": "slide"
    }
   },
   "source": [
    "# Natural Language Processing\n",
    "\n",
    "&copy; 李浩东 3190104890@zju.edu.cn\n",
    "\n",
    "- A\n",
    "- Transformer\n",
    "- BERT\n",
    "- Chat with `ChatGPT`\n",
    "- minGPT: A minimal PyTorch re-implementation of the OpenAI GPT\n"
   ]
  },
  {
   "cell_type": "markdown",
   "id": "b6fdfa69",
   "metadata": {},
   "source": []
  },
  {
   "cell_type": "markdown",
   "id": "ccdfff28",
   "metadata": {},
   "source": []
  },
  {
   "cell_type": "code",
   "execution_count": null,
   "id": "ed30c98c",
   "metadata": {},
   "outputs": [],
   "source": []
  },
  {
   "cell_type": "markdown",
   "id": "4733e51c",
   "metadata": {},
   "source": []
  },
  {
   "cell_type": "markdown",
   "id": "efa0aa46",
   "metadata": {
    "slideshow": {
     "slide_type": "slide"
    }
   },
   "source": [
    "## Chat with `ChatGPT`\n",
    "\n",
    "https://lebronlihd.github.io/blog/2023/chat-with-chatgpt/"
   ]
  },
  {
   "cell_type": "code",
   "execution_count": 2,
   "id": "453ceddc",
   "metadata": {
    "slideshow": {
     "slide_type": "-"
    }
   },
   "outputs": [
    {
     "name": "stdout",
     "output_type": "stream",
     "text": [
      "Collecting openai\n",
      "  Using cached openai-0.27.2-py3-none-any.whl (70 kB)\n",
      "Requirement already satisfied: requests>=2.20 in /home/haodong/Applications/Miniconda/Miniconda/envs/dl/lib/python3.9/site-packages (from openai) (2.28.1)\n",
      "Requirement already satisfied: tqdm in /home/haodong/Applications/Miniconda/Miniconda/envs/dl/lib/python3.9/site-packages (from openai) (4.64.1)\n",
      "Requirement already satisfied: aiohttp in /home/haodong/Applications/Miniconda/Miniconda/envs/dl/lib/python3.9/site-packages (from openai) (3.8.1)\n",
      "Requirement already satisfied: charset-normalizer<3,>=2 in /home/haodong/Applications/Miniconda/Miniconda/envs/dl/lib/python3.9/site-packages (from requests>=2.20->openai) (2.1.0)\n",
      "Requirement already satisfied: certifi>=2017.4.17 in /home/haodong/Applications/Miniconda/Miniconda/envs/dl/lib/python3.9/site-packages (from requests>=2.20->openai) (2022.12.7)\n",
      "Requirement already satisfied: urllib3<1.27,>=1.21.1 in /home/haodong/Applications/Miniconda/Miniconda/envs/dl/lib/python3.9/site-packages (from requests>=2.20->openai) (1.26.11)\n",
      "Requirement already satisfied: idna<4,>=2.5 in /home/haodong/Applications/Miniconda/Miniconda/envs/dl/lib/python3.9/site-packages (from requests>=2.20->openai) (3.3)\n",
      "Requirement already satisfied: yarl<2.0,>=1.0 in /home/haodong/Applications/Miniconda/Miniconda/envs/dl/lib/python3.9/site-packages (from aiohttp->openai) (1.7.2)\n",
      "Requirement already satisfied: async-timeout<5.0,>=4.0.0a3 in /home/haodong/Applications/Miniconda/Miniconda/envs/dl/lib/python3.9/site-packages (from aiohttp->openai) (4.0.2)\n",
      "Requirement already satisfied: frozenlist>=1.1.1 in /home/haodong/Applications/Miniconda/Miniconda/envs/dl/lib/python3.9/site-packages (from aiohttp->openai) (1.3.3)\n",
      "Requirement already satisfied: aiosignal>=1.1.2 in /home/haodong/Applications/Miniconda/Miniconda/envs/dl/lib/python3.9/site-packages (from aiohttp->openai) (1.3.1)\n",
      "Requirement already satisfied: attrs>=17.3.0 in /home/haodong/Applications/Miniconda/Miniconda/envs/dl/lib/python3.9/site-packages (from aiohttp->openai) (21.4.0)\n",
      "Requirement already satisfied: multidict<7.0,>=4.5 in /home/haodong/Applications/Miniconda/Miniconda/envs/dl/lib/python3.9/site-packages (from aiohttp->openai) (6.0.2)\n",
      "Installing collected packages: openai\n",
      "Successfully installed openai-0.27.2\n"
     ]
    }
   ],
   "source": [
    "!pip install openai # !conda install -c conda-forge openai"
   ]
  },
  {
   "cell_type": "code",
   "execution_count": 5,
   "id": "96474026",
   "metadata": {
    "slideshow": {
     "slide_type": "slide"
    }
   },
   "outputs": [
    {
     "name": "stdout",
     "output_type": "stream",
     "text": [
      "You: Hi, what is the main idea about AlphaFold2?\n",
      "\n",
      "ChatGPT: AlphaFold2 is a deep learning-based computational technique developed by researchers from the University of California, Berkeley and DeepMind to predict the 3D structure of proteins with remarkable accuracy. This breakthrough in the field of protein folding has significant implications for drug discovery, disease diagnosis, and treatment. With AlphaFold2, scientists can now predict the structure of proteins quickly and accurately, which was previously a challenging task as it would take years to identify such structures.\n",
      "\n",
      "You: Will it replace protein scientists in the future?\n",
      "\n",
      "ChatGPT: No, AlphaFold2 will not replace protein scientists in the future. While AlphaFold2's predictions are remarkable, they are still predictions, and experimental validation is necessary to confirm the accuracy of the predicted protein structures. Also, protein scientists play a critical role in designing experiments, testing hypotheses, and analyzing experimental data, which cannot be completely replaced by AlphaFold2 or any other computational technique. In fact, AlphaFold2 is expected to enhance the work of protein scientists, allowing them to focus on more complex problems and accelerating the discovery of new drugs and therapies.\n",
      "\n",
      "You: I agree with you, thanks!\n",
      "\n",
      "ChatGPT: You're welcome! If you have any other questions, feel free to ask.\n",
      "\n",
      "You: q\n"
     ]
    }
   ],
   "source": [
    "# export OPENAI_API_KEY='sk-...'\n",
    "import openai\n",
    "\n",
    "# I want ChatGPT to behave like a strict interviewer\n",
    "messages = [] # [{\"role\": \"system\", \"content\": \"You are a strict interviewer\"}]\n",
    "user_text = input(\"You: \")\n",
    "\n",
    "def no_br_in_begin(reply):\n",
    "    for i in range(len(reply)):\n",
    "        if reply[i] != '\\n':\n",
    "            return reply[i:]\n",
    "    raise KeyboardInterrupt\n",
    "\n",
    "def interact_with_ChatGPT():\n",
    "    global messages, user_text\n",
    "\n",
    "    # I want this code to run indefinitely, until any of the parties say Thank You\n",
    "    while user_text not in [\"q\", \"Q\"]:\n",
    "        messages.append({\"role\": \"user\", \"content\": user_text})\n",
    "        response = openai.ChatCompletion.create(model=\"gpt-3.5-turbo\", messages=messages)\n",
    "        reply = response.choices[0].message.content\n",
    "        print(\"\\nChatGPT:\", no_br_in_begin(reply))\n",
    "        messages.append({\"role\": \"assistant\", \"content\": reply})\n",
    "        user_text = input(\"\\nYou: \")\n",
    "\n",
    "interact_with_ChatGPT()"
   ]
  },
  {
   "cell_type": "markdown",
   "id": "088f8b16",
   "metadata": {
    "slideshow": {
     "slide_type": "slide"
    }
   },
   "source": [
    "## minGPT: A minimal PyTorch re-implementation of the OpenAI GPT\n",
    "\n",
    "- By [Andrej Karpathy](https://karpathy.ai/)\n",
    "- A PyTorch re-implementation of GPT, both training and inference. minGPT tries to be small, clean, interpretable and educational, as most of the currently available GPT model implementations can a bit sprawling.\n",
    "\n",
    "![mingpt.jpg](./images/8/mingpt.jpg)\n"
   ]
  }
 ],
 "metadata": {
  "celltoolbar": "Slideshow",
  "kernelspec": {
   "display_name": "Python 3 (ipykernel)",
   "language": "python",
   "name": "python3"
  },
  "language_info": {
   "codemirror_mode": {
    "name": "ipython",
    "version": 3
   },
   "file_extension": ".py",
   "mimetype": "text/x-python",
   "name": "python",
   "nbconvert_exporter": "python",
   "pygments_lexer": "ipython3",
   "version": "3.9.12"
  }
 },
 "nbformat": 4,
 "nbformat_minor": 5
}
