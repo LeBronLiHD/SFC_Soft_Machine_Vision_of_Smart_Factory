{
 "cells": [
  {
   "cell_type": "markdown",
   "id": "e33d5c75",
   "metadata": {
    "slideshow": {
     "slide_type": "slide"
    }
   },
   "source": [
    "# Advanced image processes Ⅱ\n",
    "\n",
    "&copy; 李浩东 3190104890@zju.edu.cn\n",
    "&copy; 孙正男 3190104890@zju.edu.cn\n",
    "\n",
    "- Contour finding\n",
    "- Contour approximation"
   ]
  },
  {
   "cell_type": "markdown",
   "id": "50ab7056",
   "metadata": {
    "slideshow": {
     "slide_type": "slide"
    }
   },
   "source": [
    "# Contour extraction\n",
    "\n",
    "![000](./images/contour_extraction.png)\n"
   ]
  },
  {
   "cell_type": "code",
   "execution_count": null,
   "id": "b884fd2a",
   "metadata": {},
   "outputs": [],
   "source": []
  }
 ],
 "metadata": {
  "celltoolbar": "幻灯片",
  "kernelspec": {
   "display_name": "Python 3 (ipykernel)",
   "language": "python",
   "name": "python3"
  },
  "language_info": {
   "codemirror_mode": {
    "name": "ipython",
    "version": 3
   },
   "file_extension": ".py",
   "mimetype": "text/x-python",
   "name": "python",
   "nbconvert_exporter": "python",
   "pygments_lexer": "ipython3",
   "version": "3.9.16"
  }
 },
 "nbformat": 4,
 "nbformat_minor": 5
}
